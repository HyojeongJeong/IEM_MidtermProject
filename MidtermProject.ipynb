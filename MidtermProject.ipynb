{
 "cells": [
  {
   "cell_type": "code",
   "execution_count": 16,
   "metadata": {},
   "outputs": [
    {
     "name": "stdout",
     "output_type": "stream",
     "text": [
      "Accuracy: 83.76%\n"
     ]
    }
   ],
   "source": [
    "import numpy as np\n",
    "from sklearn.datasets import fetch_openml\n",
    "from sklearn.model_selection import train_test_split\n",
    "from sklearn.metrics import accuracy_score\n",
    "\n",
    "mnist = fetch_openml(\"mnist_784\", parser = 'auto')\n",
    "\n",
    "X = mnist.data.values # X를 배열 형태로 지정\n",
    "X = (X > 128).astype(int)\n",
    "    \n",
    "y = mnist.target.values.astype(int)\n",
    "\n",
    "X_train, X_test, y_train, y_test = train_test_split(X, y, test_size=0.2)\n",
    "\n",
    "class BN:\n",
    "    def __init__(self):\n",
    "        self.prob_c = []\n",
    "        self.prob_p = []\n",
    "\n",
    "    \n",
    "    def fit(self, X, y):\n",
    "        #class probability\n",
    "        for c in np.unique(y):\n",
    "            num_c = np.sum(y == c)\n",
    "            prob_c = (num_c + 1) / len(X)\n",
    "            self.prob_c.append(np.log(prob_c))\n",
    "\n",
    "            num1 = X[y == c].sum(axis=0) + 1\n",
    "            prob_p = num1 / num_c\n",
    "            self.prob_p.append(np.log(prob_p))\n",
    "\n",
    "    def predict(self, X):\n",
    "        y_pred = []\n",
    "\n",
    "        for x in X:\n",
    "            class_scores = []\n",
    "        \n",
    "            for c, c_prob in zip(self.prob_c, self.prob_p):\n",
    "                p_prob = 0\n",
    "                for i, pixel_value in enumerate(x):\n",
    "                    if pixel_value == 1:\n",
    "                        p_prob += c_prob[i]\n",
    "                    else:\n",
    "                        p_prob += np.log(1 - np.exp(c_prob[i]))\n",
    "                class_scores.append(c + p_prob)\n",
    "        \n",
    "            predicted_class = np.argmax(class_scores)\n",
    "            y_pred.append(predicted_class)\n",
    "\n",
    "        return y_pred\n",
    "\n",
    "\n",
    "\n",
    "model = BN()\n",
    "model.fit(X_train, y_train)\n",
    "y_pred = model.predict(X_test)\n",
    "\n",
    "accuracy = accuracy_score(y_test, y_pred)\n",
    "print(\"Accuracy: {:.2f}%\".format(accuracy * 100))"
   ]
  }
 ],
 "metadata": {
  "kernelspec": {
   "display_name": "Python 3",
   "language": "python",
   "name": "python3"
  },
  "language_info": {
   "codemirror_mode": {
    "name": "ipython",
    "version": 3
   },
   "file_extension": ".py",
   "mimetype": "text/x-python",
   "name": "python",
   "nbconvert_exporter": "python",
   "pygments_lexer": "ipython3",
   "version": "3.10.2"
  }
 },
 "nbformat": 4,
 "nbformat_minor": 2
}
