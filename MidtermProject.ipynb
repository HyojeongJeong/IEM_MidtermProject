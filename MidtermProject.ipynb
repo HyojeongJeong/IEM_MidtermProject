{
 "cells": [
  {
   "cell_type": "code",
   "execution_count": 104,
   "metadata": {},
   "outputs": [
    {
     "name": "stderr",
     "output_type": "stream",
     "text": [
      "c:\\Users\\정효정\\AppData\\Local\\Programs\\Python\\Python310\\lib\\site-packages\\sklearn\\datasets\\_openml.py:1002: FutureWarning: The default value of `parser` will change from `'liac-arff'` to `'auto'` in 1.4. You can set `parser='auto'` to silence this warning. Therefore, an `ImportError` will be raised from 1.4 if the dataset is dense and pandas is not installed. Note that the pandas parser may return different data types. See the Notes Section in fetch_openml's API doc for details.\n",
      "  warn(\n"
     ]
    },
    {
     "name": "stdout",
     "output_type": "stream",
     "text": [
      "Accuracy: 70.36%\n"
     ]
    }
   ],
   "source": [
    "import numpy as np\n",
    "from sklearn.datasets import fetch_openml\n",
    "from sklearn.model_selection import train_test_split\n",
    "from sklearn.metrics import accuracy_score\n",
    "\n",
    "mnist = fetch_openml(\"mnist_784\")\n",
    "\n",
    "X, y = mnist.data.values, mnist.target.values\n",
    "\n",
    "X_binary = (X > 128).astype(int)\n",
    "\n",
    "X_train, X_test, y_train, y_test = train_test_split(X_binary, y, test_size=0.2, random_state=42)\n",
    "\n",
    "class BernoulliNBWithLog:\n",
    "    def fit(self, X, y):\n",
    "        self.classes = np.unique(y)\n",
    "        self.class_priors = np.array([np.log(np.mean(y == c)) for c in self.classes])\n",
    "\n",
    "        self.feature_probs = []\n",
    "        for c in self.classes:\n",
    "            feature_prob = (X[y == c].sum(axis=0)) / (np.sum(y == c))\n",
    "            self.feature_probs.append(np.log(np.clip(feature_prob, 1e-10, 1.0 - 1e-10)))\n",
    "        self.feature_probs = np.array(self.feature_probs)\n",
    "\n",
    "    def predict(self, X):\n",
    "        log_likelihoods = np.dot(X, self.feature_probs.T)\n",
    "        log_posteriors = log_likelihoods + self.class_priors\n",
    "\n",
    "        predicted_class = self.classes[np.argmax(log_posteriors, axis=1)]\n",
    "        return predicted_class\n",
    "\n",
    "model = BernoulliNBWithLog()\n",
    "\n",
    "model.fit(X_train, y_train)\n",
    "y_pred = model.predict(X_test)\n",
    "\n",
    "accuracy = accuracy_score(y_test, y_pred)\n",
    "print(\"Accuracy: {:.2f}%\".format(accuracy * 100))\n",
    "\n"
   ]
  }
 ],
 "metadata": {
  "kernelspec": {
   "display_name": "Python 3",
   "language": "python",
   "name": "python3"
  },
  "language_info": {
   "codemirror_mode": {
    "name": "ipython",
    "version": 3
   },
   "file_extension": ".py",
   "mimetype": "text/x-python",
   "name": "python",
   "nbconvert_exporter": "python",
   "pygments_lexer": "ipython3",
   "version": "3.10.2"
  }
 },
 "nbformat": 4,
 "nbformat_minor": 2
}
